{
 "cells": [
  {
   "cell_type": "markdown",
   "id": "584584aa",
   "metadata": {},
   "source": [
    "Lower Triangular Pattern"
   ]
  },
  {
   "cell_type": "code",
   "execution_count": 2,
   "id": "8f004f8b",
   "metadata": {},
   "outputs": [
    {
     "name": "stdout",
     "output_type": "stream",
     "text": [
      "* \n",
      "* * \n",
      "* * * \n",
      "* * * * \n",
      "* * * * * \n"
     ]
    }
   ],
   "source": [
    "\n",
    "n =int(input('enter the value of n'))\n",
    "for i in range(1, n+1):\n",
    "    print(\"* \" * i)"
   ]
  },
  {
   "cell_type": "markdown",
   "id": "48f178fe",
   "metadata": {},
   "source": [
    " Upper Triangular Pattern"
   ]
  },
  {
   "cell_type": "code",
   "execution_count": 4,
   "id": "5db79264",
   "metadata": {},
   "outputs": [
    {
     "name": "stdout",
     "output_type": "stream",
     "text": [
      "* * * * * \n",
      "  * * * * \n",
      "    * * * \n",
      "      * * \n",
      "        * \n"
     ]
    }
   ],
   "source": [
    "n =int(input('enter the value of n')) \n",
    "for i in range(n):\n",
    "    print(\"  \" * i + \"* \" * (n - i))\n"
   ]
  },
  {
   "cell_type": "markdown",
   "id": "4ea542e8",
   "metadata": {},
   "source": [
    " Pyramid Pattern"
   ]
  },
  {
   "cell_type": "code",
   "execution_count": 5,
   "id": "2c8a3168",
   "metadata": {},
   "outputs": [
    {
     "name": "stdout",
     "output_type": "stream",
     "text": [
      "    * \n",
      "   * * \n",
      "  * * * \n",
      " * * * * \n",
      "* * * * * \n"
     ]
    }
   ],
   "source": [
    "n =int(input('enter the value of n'))\n",
    "for i in range(1, n+1):\n",
    "    print(\" \" * (n - i) + \"* \" * i)\n"
   ]
  },
  {
   "cell_type": "code",
   "execution_count": null,
   "id": "b1c9dce9",
   "metadata": {},
   "outputs": [],
   "source": []
  }
 ],
 "metadata": {
  "kernelspec": {
   "display_name": "base",
   "language": "python",
   "name": "python3"
  },
  "language_info": {
   "codemirror_mode": {
    "name": "ipython",
    "version": 3
   },
   "file_extension": ".py",
   "mimetype": "text/x-python",
   "name": "python",
   "nbconvert_exporter": "python",
   "pygments_lexer": "ipython3",
   "version": "3.11.3"
  }
 },
 "nbformat": 4,
 "nbformat_minor": 5
}
